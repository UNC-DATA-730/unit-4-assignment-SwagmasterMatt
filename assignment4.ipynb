{
 "cells": [
  {
   "cell_type": "markdown",
   "id": "df0d234f-1e1a-4495-8208-e177e7f527aa",
   "metadata": {},
   "source": [
    "Complete the exercises below For **Assignment #4**.\n",
    "\n",
    "Use **Markdown** cells for the non-code answers."
   ]
  },
  {
   "cell_type": "markdown",
   "id": "67f720a0-2ead-44f5-bc11-8cbefda7b7d4",
   "metadata": {},
   "source": [
    "In this assignment we will work with the data underlying the *FiveThirtyEight* article [\"Higher Rates Of Hate Crimes Are Tied To Income Inequality\"](https://fivethirtyeight.com/features/higher-rates-of-hate-crimes-are-tied-to-income-inequality/)."
   ]
  },
  {
   "cell_type": "markdown",
   "id": "da3788bf-60c0-4b04-a09e-29bb08002d83",
   "metadata": {},
   "source": [
    "Load the `tidymodels`, `readr`, and `moderndive` packages in the cell below."
   ]
  },
  {
   "cell_type": "code",
   "execution_count": 3,
   "id": "c363d814-19a6-4173-899e-c54ada1860d2",
   "metadata": {
    "vscode": {
     "languageId": "r"
    }
   },
   "outputs": [],
   "source": [
    "\n",
    "library(tidymodels)\n",
    "library(readr)\n",
    "library(moderndive)"
   ]
  },
  {
   "cell_type": "markdown",
   "id": "c4064cbe-78bd-4549-8543-fd91ed775e6e",
   "metadata": {},
   "source": [
    "We can read the data from a **CSV file** at the following URL: [http://bit.ly/2ItxYg3](http://bit.ly/2ItxYg3).\n",
    "\n",
    "Use the `read_csv` function to read the data into our R session. Call the new table `hate_crimes`."
   ]
  },
  {
   "cell_type": "code",
   "execution_count": 7,
   "id": "94ce1201-dd72-4109-9a64-333b7286aac7",
   "metadata": {
    "vscode": {
     "languageId": "r"
    }
   },
   "outputs": [
    {
     "name": "stderr",
     "output_type": "stream",
     "text": [
      "\u001b[1mRows: \u001b[22m\u001b[34m51\u001b[39m \u001b[1mColumns: \u001b[22m\u001b[34m9\u001b[39m\n",
      "\u001b[36m--\u001b[39m \u001b[1mColumn specification\u001b[22m \u001b[36m--------------------------------------------------------\u001b[39m\n",
      "\u001b[1mDelimiter:\u001b[22m \",\"\n",
      "\u001b[31mchr\u001b[39m (5): state, median_house_inc, trump_support, unemployment, urbanization\n",
      "\u001b[32mdbl\u001b[39m (4): share_pop_metro, hs, hate_crimes, income\n",
      "\n",
      "\u001b[36mi\u001b[39m Use `spec()` to retrieve the full column specification for this data.\n",
      "\u001b[36mi\u001b[39m Specify the column types or set `show_col_types = FALSE` to quiet this message.\n"
     ]
    },
    {
     "name": "stdout",
     "output_type": "stream",
     "text": [
      "Rows: 51\n",
      "Columns: 9\n",
      "$ state            \u001b[3m\u001b[90m<chr>\u001b[39m\u001b[23m \"New Mexico\", \"Maine\", \"New York\", \"Illinois\", \"Delaw~\n",
      "$ median_house_inc \u001b[3m\u001b[90m<chr>\u001b[39m\u001b[23m \"low\", \"low\", \"low\", \"low\", \"high\", \"high\", \"high\", \"~\n",
      "$ share_pop_metro  \u001b[3m\u001b[90m<dbl>\u001b[39m\u001b[23m 0.69, 0.54, 0.94, 0.90, 0.90, 1.00, 0.87, 0.86, 0.97,~\n",
      "$ hs               \u001b[3m\u001b[90m<dbl>\u001b[39m\u001b[23m 83, 90, 85, 86, 87, 85, 89, 90, 81, 91, 89, 89, 87, 8~\n",
      "$ hate_crimes      \u001b[3m\u001b[90m<dbl>\u001b[39m\u001b[23m 0.295, 0.616, 0.351, 0.195, 0.323, 0.095, 0.833, 0.67~\n",
      "$ trump_support    \u001b[3m\u001b[90m<chr>\u001b[39m\u001b[23m \"low\", \"low\", \"low\", \"low\", \"low\", \"low\", \"low\", \"low~\n",
      "$ unemployment     \u001b[3m\u001b[90m<chr>\u001b[39m\u001b[23m \"high\", \"low\", \"low\", \"high\", \"low\", \"high\", \"high\", ~\n",
      "$ urbanization     \u001b[3m\u001b[90m<chr>\u001b[39m\u001b[23m \"low\", \"low\", \"high\", \"high\", \"high\", \"high\", \"high\",~\n",
      "$ income           \u001b[3m\u001b[90m<dbl>\u001b[39m\u001b[23m 46686, 51710, 54310, 54916, 57522, 58633, 58875, 5906~\n"
     ]
    },
    {
     "ename": "ERROR",
     "evalue": "Error in skim(hate_crimes): could not find function \"skim\"\n",
     "output_type": "error",
     "traceback": [
      "Error in skim(hate_crimes): could not find function \"skim\"\nTraceback:\n"
     ]
    }
   ],
   "source": [
    "hate_crimes <- read_csv(\"http://bit.ly/2ItxYg3\")\n",
    "\n",
    "\n",
    "glimpse(hate_crimes)\n",
    "hate_crimes |> skim()"
   ]
  },
  {
   "cell_type": "markdown",
   "id": "f4806491-e256-4823-aa63-612157c25966",
   "metadata": {},
   "source": [
    "Next, let’s add the high-school degree variable into the mix by creating a scatterplot showing:\n",
    "\n",
    "- Income on the y-axis (this is the `income` variable)\n",
    "- Percent of adults 25 or older with a high school degree on the x-axis (this is the `hs` variable)\n",
    "- The points colored by level of urbanization in a region (this is the variable `urbanization`)\n",
    "\n",
    "\n",
    "**In addition, add a line of best fit (regression line) for each level of the variable urbanization (one for “low”, one for “high”).**\n",
    "\n",
    "*Add the regression lines to the plot using the `geom_parallel_slopes` function from the `moderndive` package. This function will draw the regression lines based on fitting a regression model with parallel slopes (i.e., with no interaction between `hs` and `urbanization`).*"
   ]
  },
  {
   "cell_type": "code",
   "execution_count": 9,
   "id": "ca1fb95e",
   "metadata": {
    "vscode": {
     "languageId": "r"
    }
   },
   "outputs": [
    {
     "name": "stdout",
     "output_type": "stream",
     "text": [
      "geom_parallel_slopes        package:moderndive         R Documentation\n",
      "\n",
      "_\bP_\ba_\br_\ba_\bl_\bl_\be_\bl _\bs_\bl_\bo_\bp_\be_\bs _\br_\be_\bg_\br_\be_\bs_\bs_\bi_\bo_\bn _\bm_\bo_\bd_\be_\bl\n",
      "\n",
      "_\bD_\be_\bs_\bc_\br_\bi_\bp_\bt_\bi_\bo_\bn:\n",
      "\n",
      "     'geom_parallel_slopes()' fits parallel slopes model and adds its\n",
      "     line output(s) to a 'ggplot' object. Basically, it fits a unified\n",
      "     model with intercepts varying between groups (which should be\n",
      "     supplied as standard ggplot2 grouping aesthetics: 'group',\n",
      "     'color', 'fill', etc.). This function has the same nature as\n",
      "     'geom_smooth()' from ggplot2 package, but provides functionality\n",
      "     that 'geom_smooth()' currently doesn't have.\n",
      "\n",
      "_\bU_\bs_\ba_\bg_\be:\n",
      "\n",
      "     geom_parallel_slopes(\n",
      "       mapping = NULL,\n",
      "       data = NULL,\n",
      "       position = \"identity\",\n",
      "       ...,\n",
      "       se = TRUE,\n",
      "       formula = y ~ x,\n",
      "       n = 100,\n",
      "       fullrange = FALSE,\n",
      "       level = 0.95,\n",
      "       na.rm = FALSE,\n",
      "       show.legend = NA,\n",
      "       inherit.aes = TRUE\n",
      "     )\n",
      "     \n",
      "_\bA_\br_\bg_\bu_\bm_\be_\bn_\bt_\bs:\n",
      "\n",
      " mapping: Set of aesthetic mappings created by 'aes()'. If specified\n",
      "          and 'inherit.aes = TRUE' (the default), it is combined with\n",
      "          the default mapping at the top level of the plot. You must\n",
      "          supply 'mapping' if there is no plot mapping.\n",
      "\n",
      "    data: The data to be displayed in this layer. There are three\n",
      "          options:\n",
      "\n",
      "          If 'NULL', the default, the data is inherited from the plot\n",
      "          data as specified in the call to 'ggplot()'.\n",
      "\n",
      "          A 'data.frame', or other object, will override the plot data.\n",
      "          All objects will be fortified to produce a data frame. See\n",
      "          'fortify()' for which variables will be created.\n",
      "\n",
      "          A 'function' will be called with a single argument, the plot\n",
      "          data. The return value must be a 'data.frame', and will be\n",
      "          used as the layer data. A 'function' can be created from a\n",
      "          'formula' (e.g. '~ head(.x, 10)').\n",
      "\n",
      "position: Position adjustment, either as a string naming the adjustment\n",
      "          (e.g. '\"jitter\"' to use 'position_jitter'), or the result of\n",
      "          a call to a position adjustment function. Use the latter if\n",
      "          you need to change the settings of the adjustment.\n",
      "\n",
      "     ...: Other arguments passed on to 'layer()'. These are often\n",
      "          aesthetics, used to set an aesthetic to a fixed value, like\n",
      "          'colour = \"red\"' or 'size = 3'. They may also be parameters\n",
      "          to the paired geom/stat.\n",
      "\n",
      "      se: Display confidence interval around model lines? 'TRUE' by\n",
      "          default.\n",
      "\n",
      " formula: Formula to use per group in parallel slopes model. Basic\n",
      "          linear 'y ~ x' by default.\n",
      "\n",
      "       n: Number of points per group at which to evaluate model.\n",
      "\n",
      "fullrange: If 'TRUE', the smoothing line gets expanded to the range of\n",
      "          the plot, potentially beyond the data. This does not extend\n",
      "          the line into any additional padding created by 'expansion'.\n",
      "\n",
      "   level: Level of confidence interval to use (0.95 by default).\n",
      "\n",
      "   na.rm: If 'FALSE', the default, missing values are removed with a\n",
      "          warning. If 'TRUE', missing values are silently removed.\n",
      "\n",
      "show.legend: logical. Should this layer be included in the legends?\n",
      "          'NA', the default, includes if any aesthetics are mapped.\n",
      "          'FALSE' never includes, and 'TRUE' always includes. It can\n",
      "          also be a named logical vector to finely select the\n",
      "          aesthetics to display.\n",
      "\n",
      "inherit.aes: If 'FALSE', overrides the default aesthetics, rather than\n",
      "          combining with them. This is most useful for helper functions\n",
      "          that define both data and aesthetics and shouldn't inherit\n",
      "          behaviour from the default plot specification, e.g.\n",
      "          'borders()'.\n",
      "\n",
      "_\bS_\be_\be _\bA_\bl_\bs_\bo:\n",
      "\n",
      "     'geom_categorical_model()'\n",
      "\n",
      "_\bE_\bx_\ba_\bm_\bp_\bl_\be_\bs:\n",
      "\n",
      "     library(dplyr)\n",
      "     library(ggplot2)\n",
      "     \n",
      "     ggplot(evals, aes(x = age, y = score, color = ethnicity)) +\n",
      "       geom_point() +\n",
      "       geom_parallel_slopes(se = FALSE)\n",
      "     \n",
      "     # Basic usage\n",
      "     ggplot(evals, aes(x = age, y = score, color = ethnicity)) +\n",
      "       geom_point() +\n",
      "       geom_parallel_slopes()\n",
      "     ggplot(evals, aes(x = age, y = score, color = ethnicity)) +\n",
      "       geom_point() +\n",
      "       geom_parallel_slopes(se = FALSE)\n",
      "     \n",
      "     # Supply custom aesthetics\n",
      "     ggplot(evals, aes(x = age, y = score, color = ethnicity)) +\n",
      "       geom_point() +\n",
      "       geom_parallel_slopes(se = FALSE, size = 4)\n",
      "     \n",
      "     # Fit non-linear model\n",
      "     example_df <- house_prices %>%\n",
      "       slice(1:1000) %>%\n",
      "       mutate(\n",
      "         log10_price = log10(price),\n",
      "         log10_size = log10(sqft_living)\n",
      "       )\n",
      "     ggplot(example_df, aes(x = log10_size, y = log10_price, color = condition)) +\n",
      "       geom_point(alpha = 0.1) +\n",
      "       geom_parallel_slopes(formula = y ~ poly(x, 2))\n",
      "     \n",
      "     # Different grouping\n",
      "     ggplot(example_df, aes(x = log10_size, y = log10_price)) +\n",
      "       geom_point(alpha = 0.1) +\n",
      "       geom_parallel_slopes(aes(fill = condition))\n",
      "     "
     ]
    }
   ],
   "source": [
    "help(geom_parallel_slopes)"
   ]
  },
  {
   "cell_type": "code",
   "execution_count": 10,
   "id": "0df52489-dc41-4d74-ba64-a93f1d5c7ae1",
   "metadata": {
    "vscode": {
     "languageId": "r"
    }
   },
   "outputs": [
    {
     "name": "stderr",
     "output_type": "stream",
     "text": [
      "Warning message:\n",
      "\"\u001b[1m\u001b[22mRemoved 3 rows containing non-finite values (`stat_parallel_slopes()`).\"\n",
      "Warning message:\n",
      "\"\u001b[1m\u001b[22mRemoved 3 rows containing missing values (`geom_point()`).\"\n"
     ]
    },
    {
     "data": {
      "image/png": "[encoded data removed]",
      "text/plain": [
       "plot without title"
      ]
     },
     "metadata": {
      "image/png": {
       "height": 500,
       "width": 625
      }
     },
     "output_type": "display_data"
    }
   ],
   "source": [
    "\n",
    "\n",
    "ggplot(hate_crimes) +\n",
    "    geom_point(aes(x = hs, y= income, color = factor(urbanization))) + \n",
    "    labs(color = \"level of urbanization\") +\n",
    "    geom_parallel_slopes(aes(x = hs, y = income, color = factor(urbanization)))\n",
    "\n",
    "\n"
   ]
  },
  {
   "cell_type": "markdown",
   "id": "6e532f1d-fa73-402b-96e0-f104a4c02791",
   "metadata": {},
   "source": [
    "❓Which regression line (high urbanization or low urbanization) appears to have the larger intercept?\n",
    "\n",
    "**Answer:**\n",
    "\n",
    "High urbanization appears to have a higher intercept which would indicate that higher incomes are generally more urbanized regardless of the % of adults with a highschool degree. They are not completely independent of each other but it explains a possible relationship between increased urbanization with income."
   ]
  },
  {
   "cell_type": "markdown",
   "id": "e8c51941-740b-4bba-975f-12083a90dda0",
   "metadata": {},
   "source": [
    "Now let’s create a second scatterplot using the same variables, but this time draw the regression lines using `geom_smooth(method = \"lm\")`, which will allow for separate, non-parallel slopes for each urbanization group. \n",
    "\n",
    "**Code you your scatter plot in the cell below.**"
   ]
  },
  {
   "cell_type": "code",
   "execution_count": 12,
   "id": "046ef95b",
   "metadata": {
    "vscode": {
     "languageId": "r"
    }
   },
   "outputs": [
    {
     "name": "stdout",
     "output_type": "stream",
     "text": [
      "geom_smooth              package:ggplot2               R Documentation\n",
      "\n",
      "_\bS_\bm_\bo_\bo_\bt_\bh_\be_\bd _\bc_\bo_\bn_\bd_\bi_\bt_\bi_\bo_\bn_\ba_\bl _\bm_\be_\ba_\bn_\bs\n",
      "\n",
      "_\bD_\be_\bs_\bc_\br_\bi_\bp_\bt_\bi_\bo_\bn:\n",
      "\n",
      "     Aids the eye in seeing patterns in the presence of overplotting.\n",
      "     'geom_smooth()' and 'stat_smooth()' are effectively aliases: they\n",
      "     both use the same arguments. Use 'stat_smooth()' if you want to\n",
      "     display the results with a non-standard geom.\n",
      "\n",
      "_\bU_\bs_\ba_\bg_\be:\n",
      "\n",
      "     geom_smooth(\n",
      "       mapping = NULL,\n",
      "       data = NULL,\n",
      "       stat = \"smooth\",\n",
      "       position = \"identity\",\n",
      "       ...,\n",
      "       method = NULL,\n",
      "       formula = NULL,\n",
      "       se = TRUE,\n",
      "       na.rm = FALSE,\n",
      "       orientation = NA,\n",
      "       show.legend = NA,\n",
      "       inherit.aes = TRUE\n",
      "     )\n",
      "     \n",
      "     stat_smooth(\n",
      "       mapping = NULL,\n",
      "       data = NULL,\n",
      "       geom = \"smooth\",\n",
      "       position = \"identity\",\n",
      "       ...,\n",
      "       method = NULL,\n",
      "       formula = NULL,\n",
      "       se = TRUE,\n",
      "       n = 80,\n",
      "       span = 0.75,\n",
      "       fullrange = FALSE,\n",
      "       level = 0.95,\n",
      "       method.args = list(),\n",
      "       na.rm = FALSE,\n",
      "       orientation = NA,\n",
      "       show.legend = NA,\n",
      "       inherit.aes = TRUE\n",
      "     )\n",
      "     \n",
      "_\bA_\br_\bg_\bu_\bm_\be_\bn_\bt_\bs:\n",
      "\n",
      " mapping: Set of aesthetic mappings created by 'aes()'. If specified\n",
      "          and 'inherit.aes = TRUE' (the default), it is combined with\n",
      "          the default mapping at the top level of the plot. You must\n",
      "          supply 'mapping' if there is no plot mapping.\n",
      "\n",
      "    data: The data to be displayed in this layer. There are three\n",
      "          options:\n",
      "\n",
      "          If 'NULL', the default, the data is inherited from the plot\n",
      "          data as specified in the call to 'ggplot()'.\n",
      "\n",
      "          A 'data.frame', or other object, will override the plot data.\n",
      "          All objects will be fortified to produce a data frame. See\n",
      "          'fortify()' for which variables will be created.\n",
      "\n",
      "          A 'function' will be called with a single argument, the plot\n",
      "          data. The return value must be a 'data.frame', and will be\n",
      "          used as the layer data. A 'function' can be created from a\n",
      "          'formula' (e.g. '~ head(.x, 10)').\n",
      "\n",
      "position: Position adjustment, either as a string naming the adjustment\n",
      "          (e.g. '\"jitter\"' to use 'position_jitter'), or the result of\n",
      "          a call to a position adjustment function. Use the latter if\n",
      "          you need to change the settings of the adjustment.\n",
      "\n",
      "     ...: Other arguments passed on to 'layer()'. These are often\n",
      "          aesthetics, used to set an aesthetic to a fixed value, like\n",
      "          'colour = \"red\"' or 'size = 3'. They may also be parameters\n",
      "          to the paired geom/stat.\n",
      "\n",
      "  method: Smoothing method (function) to use, accepts either 'NULL' or\n",
      "          a character vector, e.g. '\"lm\"', '\"glm\"', '\"gam\"', '\"loess\"'\n",
      "          or a function, e.g. 'MASS::rlm' or 'mgcv::gam', 'stats::lm',\n",
      "          or 'stats::loess'. '\"auto\"' is also accepted for backwards\n",
      "          compatibility.  It is equivalent to 'NULL'.\n",
      "\n",
      "          For 'method = NULL' the smoothing method is chosen based on\n",
      "          the size of the largest group (across all panels).\n",
      "          'stats::loess()' is used for less than 1,000 observations;\n",
      "          otherwise 'mgcv::gam()' is used with 'formula = y ~ s(x, bs =\n",
      "          \"cs\")' with 'method = \"REML\"'. Somewhat anecdotally, 'loess'\n",
      "          gives a better appearance, but is O(N^2) in memory, so does\n",
      "          not work for larger datasets.\n",
      "\n",
      "          If you have fewer than 1,000 observations but want to use the\n",
      "          same 'gam()' model that 'method = NULL' would use, then set\n",
      "          method = \"gam\", formula = y ~ s(x, bs = \"cs\").\n",
      "\n",
      " formula: Formula to use in smoothing function, eg. 'y ~ x', 'y ~\n",
      "          poly(x, 2)', 'y ~ log(x)'. 'NULL' by default, in which case\n",
      "          'method = NULL' implies 'formula = y ~ x' when there are\n",
      "          fewer than 1,000 observations and 'formula = y ~ s(x, bs =\n",
      "          \"cs\")' otherwise.\n",
      "\n",
      "      se: Display confidence interval around smooth? ('TRUE' by\n",
      "          default, see 'level' to control.)\n",
      "\n",
      "   na.rm: If 'FALSE', the default, missing values are removed with a\n",
      "          warning. If 'TRUE', missing values are silently removed.\n",
      "\n",
      "orientation: The orientation of the layer. The default ('NA')\n",
      "          automatically determines the orientation from the aesthetic\n",
      "          mapping. In the rare event that this fails it can be given\n",
      "          explicitly by setting 'orientation' to either '\"x\"' or '\"y\"'.\n",
      "          See the _Orientation_ section for more detail.\n",
      "\n",
      "show.legend: logical. Should this layer be included in the legends?\n",
      "          'NA', the default, includes if any aesthetics are mapped.\n",
      "          'FALSE' never includes, and 'TRUE' always includes. It can\n",
      "          also be a named logical vector to finely select the\n",
      "          aesthetics to display.\n",
      "\n",
      "inherit.aes: If 'FALSE', overrides the default aesthetics, rather than\n",
      "          combining with them. This is most useful for helper functions\n",
      "          that define both data and aesthetics and shouldn't inherit\n",
      "          behaviour from the default plot specification, e.g.\n",
      "          'borders()'.\n",
      "\n",
      "geom, stat: Use to override the default connection between\n",
      "          'geom_smooth()' and 'stat_smooth()'.\n",
      "\n",
      "       n: Number of points at which to evaluate smoother.\n",
      "\n",
      "    span: Controls the amount of smoothing for the default loess\n",
      "          smoother. Smaller numbers produce wigglier lines, larger\n",
      "          numbers produce smoother lines. Only used with loess, i.e.\n",
      "          when 'method = \"loess\"', or when 'method = NULL' (the\n",
      "          default) and there are fewer than 1,000 observations.\n",
      "\n",
      "fullrange: If 'TRUE', the smoothing line gets expanded to the range of\n",
      "          the plot, potentially beyond the data. This does not extend\n",
      "          the line into any additional padding created by 'expansion'.\n",
      "\n",
      "   level: Level of confidence interval to use (0.95 by default).\n",
      "\n",
      "method.args: List of additional arguments passed on to the modelling\n",
      "          function defined by 'method'.\n",
      "\n",
      "_\bD_\be_\bt_\ba_\bi_\bl_\bs:\n",
      "\n",
      "     Calculation is performed by the (currently undocumented)\n",
      "     'predictdf()' generic and its methods.  For most methods the\n",
      "     standard error bounds are computed using the 'predict()' method -\n",
      "     the exceptions are 'loess()', which uses a t-based approximation,\n",
      "     and 'glm()', where the normal confidence interval is constructed\n",
      "     on the link scale and then back-transformed to the response scale.\n",
      "\n",
      "_\bO_\br_\bi_\be_\bn_\bt_\ba_\bt_\bi_\bo_\bn:\n",
      "\n",
      "     This geom treats each axis differently and, thus, can thus have\n",
      "     two orientations. Often the orientation is easy to deduce from a\n",
      "     combination of the given mappings and the types of positional\n",
      "     scales in use. Thus, ggplot2 will by default try to guess which\n",
      "     orientation the layer should have. Under rare circumstances, the\n",
      "     orientation is ambiguous and guessing may fail. In that case the\n",
      "     orientation can be specified directly using the 'orientation'\n",
      "     parameter, which can be either '\"x\"' or '\"y\"'. The value gives the\n",
      "     axis that the geom should run along, '\"x\"' being the default\n",
      "     orientation you would expect for the geom.\n",
      "\n",
      "_\bA_\be_\bs_\bt_\bh_\be_\bt_\bi_\bc_\bs:\n",
      "\n",
      "     'geom_smooth()' understands the following aesthetics (required\n",
      "     aesthetics are in bold):\n",
      "\n",
      "        â€¢ *'x'*\n",
      "\n",
      "        â€¢ *'y'*\n",
      "\n",
      "        â€¢ 'alpha'\n",
      "\n",
      "        â€¢ 'colour'\n",
      "\n",
      "        â€¢ 'fill'\n",
      "\n",
      "        â€¢ 'group'\n",
      "\n",
      "        â€¢ 'linetype'\n",
      "\n",
      "        â€¢ 'linewidth'\n",
      "\n",
      "        â€¢ 'weight'\n",
      "\n",
      "        â€¢ 'ymax'\n",
      "\n",
      "        â€¢ 'ymin'\n",
      "\n",
      "     Learn more about setting these aesthetics in\n",
      "     'vignette(\"ggplot2-specs\")'.\n",
      "\n",
      "_\bC_\bo_\bm_\bp_\bu_\bt_\be_\bd _\bv_\ba_\br_\bi_\ba_\bb_\bl_\be_\bs:\n",
      "\n",
      "     These are calculated by the 'stat' part of layers and can be\n",
      "     accessed with delayed evaluation. 'stat_smooth()' provides the\n",
      "     following variables, some of which depend on the orientation:\n",
      "\n",
      "        â€¢ 'after_stat(y)' _or_ 'after_stat(x)'\n",
      "          Predicted value.\n",
      "\n",
      "        â€¢ 'after_stat(ymin)' _or_ 'after_stat(xmin)'\n",
      "          Lower pointwise confidence interval around the mean.\n",
      "\n",
      "        â€¢ 'after_stat(ymax)' _or_ 'after_stat(xmax)'\n",
      "          Upper pointwise confidence interval around the mean.\n",
      "\n",
      "        â€¢ 'after_stat(se)'\n",
      "          Standard error.\n",
      "\n",
      "_\bS_\be_\be _\bA_\bl_\bs_\bo:\n",
      "\n",
      "     See individual modelling functions for more details: 'lm()' for\n",
      "     linear smooths, 'glm()' for generalised linear smooths, and\n",
      "     'loess()' for local smooths.\n",
      "\n",
      "_\bE_\bx_\ba_\bm_\bp_\bl_\be_\bs:\n",
      "\n",
      "     ggplot(mpg, aes(displ, hwy)) +\n",
      "       geom_point() +\n",
      "       geom_smooth()\n",
      "     \n",
      "     # If you need the fitting to be done along the y-axis set the orientation\n",
      "     ggplot(mpg, aes(displ, hwy)) +\n",
      "       geom_point() +\n",
      "       geom_smooth(orientation = \"y\")\n",
      "     \n",
      "     # Use span to control the \"wiggliness\" of the default loess smoother.\n",
      "     # The span is the fraction of points used to fit each local regression:\n",
      "     # small numbers make a wigglier curve, larger numbers make a smoother curve.\n",
      "     ggplot(mpg, aes(displ, hwy)) +\n",
      "       geom_point() +\n",
      "       geom_smooth(span = 0.3)\n",
      "     \n",
      "     # Instead of a loess smooth, you can use any other modelling function:\n",
      "     ggplot(mpg, aes(displ, hwy)) +\n",
      "       geom_point() +\n",
      "       geom_smooth(method = lm, se = FALSE)\n",
      "     \n",
      "     ggplot(mpg, aes(displ, hwy)) +\n",
      "       geom_point() +\n",
      "       geom_smooth(method = lm, formula = y ~ splines::bs(x, 3), se = FALSE)\n",
      "     \n",
      "     # Smooths are automatically fit to each group (defined by categorical\n",
      "     # aesthetics or the group aesthetic) and for each facet.\n",
      "     \n",
      "     ggplot(mpg, aes(displ, hwy, colour = class)) +\n",
      "       geom_point() +\n",
      "       geom_smooth(se = FALSE, method = lm)\n",
      "     ggplot(mpg, aes(displ, hwy)) +\n",
      "       geom_point() +\n",
      "       geom_smooth(span = 0.8) +\n",
      "       facet_wrap(~drv)\n",
      "     \n",
      "     \n",
      "     binomial_smooth <- function(...) {\n",
      "       geom_smooth(method = \"glm\", method.args = list(family = \"binomial\"), ...)\n",
      "     }\n",
      "     # To fit a logistic regression, you need to coerce the values to\n",
      "     # a numeric vector lying between 0 and 1.\n",
      "     ggplot(rpart::kyphosis, aes(Age, Kyphosis)) +\n",
      "       geom_jitter(height = 0.05) +\n",
      "       binomial_smooth()\n",
      "     \n",
      "     ggplot(rpart::kyphosis, aes(Age, as.numeric(Kyphosis) - 1)) +\n",
      "       geom_jitter(height = 0.05) +\n",
      "       binomial_smooth()\n",
      "     \n",
      "     ggplot(rpart::kyphosis, aes(Age, as.numeric(Kyphosis) - 1)) +\n",
      "       geom_jitter(height = 0.05) +\n",
      "       binomial_smooth(formula = y ~ splines::ns(x, 2))\n",
      "     \n",
      "     # But in this case, it's probably better to fit the model yourself\n",
      "     # so you can exercise more control and see whether or not it's a good model.\n",
      "     "
     ]
    }
   ],
   "source": [
    "help(geom_smooth)"
   ]
  },
  {
   "cell_type": "code",
   "execution_count": 17,
   "id": "fbdf3299-5151-4963-addb-6089506a9b1d",
   "metadata": {
    "vscode": {
     "languageId": "r"
    }
   },
   "outputs": [
    {
     "name": "stderr",
     "output_type": "stream",
     "text": [
      "\u001b[1m\u001b[22m`geom_smooth()` using formula = 'y ~ x'\n"
     ]
    },
    {
     "name": "stderr",
     "output_type": "stream",
     "text": [
      "Warning message:\n",
      "\"\u001b[1m\u001b[22mRemoved 3 rows containing non-finite values (`stat_smooth()`).\"\n",
      "Warning message:\n",
      "\"\u001b[1m\u001b[22mRemoved 3 rows containing missing values (`geom_point()`).\"\n"
     ]
    },
    {
     "data": {
      "image/png": "[encoded data removed]",
      "text/plain": [
       "plot without title"
      ]
     },
     "metadata": {
      "image/png": {
       "height": 500,
       "width": 625
      }
     },
     "output_type": "display_data"
    }
   ],
   "source": [
    "ggplot(hate_crimes, aes(x = hs, y= income, color = factor(urbanization))) +\n",
    "    geom_point() + \n",
    "    labs(color = \"level of urbanization\") +\n",
    "    geom_smooth(method = \"lm\")\n",
    "\n"
   ]
  },
  {
   "cell_type": "markdown",
   "id": "1a8b4ef0-c250-4f50-8354-75075608b95c",
   "metadata": {},
   "source": [
    "❓Based on visually comparing the two models shown above, do you think it would be best to run a “parallel slopes” model (i.e. a model that estimates one shared slope for the two levels of urbanization), or a more complex “interaction model” (i.e. a model that estimates a separate slope for the two levels of urbanization)?\n",
    "\n",
    "**Answer:**"
   ]
  },
  {
   "cell_type": "markdown",
   "id": "c3d2a567",
   "metadata": {},
   "source": [
    "Using only these examples I think a parallel model is more appropriate only considering that it produces better confidence intervals. However, I think that with a deeper data set with more observations that it could potentially sway the other way. Its clear that there is a distinct relationship between the target variable and the levels of urbanization and that given a different relationship the regression would behave differently. "
   ]
  },
  {
   "cell_type": "markdown",
   "id": "58b774c5-d4d1-4473-be77-4a1271fa4ca2",
   "metadata": {},
   "source": [
    "Fit the following two regression models that examine the relationship between household `income` (as response variable), and high-school education (`hs`) and `urbanization` as explanatory variables:\n",
    "\n",
    "1. A parallel slopes model (i.e., no interaction between `hs` and `urbanization`). ❗️Save the data recipe and model under the variables `ps_rec` and `ps_mod`, respectively. \n",
    "1. A non-parallel slopes model (i.e., allow `hs` and `urbanization` to interact in your model). ❗️Save the data recipe and model under the variable: `nps_rec` and `nps_mod`, respectively.\n",
    "\n",
    "**Code you your models in the cell below.**"
   ]
  },
  {
   "cell_type": "code",
   "execution_count": 18,
   "id": "30523b47-a9af-4462-9c47-8bab30e76cc6",
   "metadata": {
    "vscode": {
     "languageId": "r"
    }
   },
   "outputs": [
    {
     "data": {
      "text/plain": [
       "parsnip model object\n",
       "\n",
       "\n",
       "Call:\n",
       "stats::lm(formula = income ~ ., data = data)\n",
       "\n",
       "Coefficients:\n",
       "     (Intercept)                hs  urbanization_low  \n",
       "         -113725              1987             -7333  \n"
      ]
     },
     "metadata": {},
     "output_type": "display_data"
    }
   ],
   "source": [
    "# parallel slopes model\n",
    "\n",
    "ps_rec = recipe(income ~ hs + urbanization, data = hate_crimes) |> \n",
    "    step_naomit(everything()) |>   # remove missing values\n",
    "    step_dummy(urbanization) |>    # dummy encode the urbanization variable\n",
    "    prep()                         # run the recipe on the training data provided\n",
    "\n",
    "mod = linear_reg() |> set_engine('lm')\n",
    "\n",
    "ps_mod = mod |> fit(income ~ ., juice(ps_rec))\n",
    "\n",
    "ps_mod"
   ]
  },
  {
   "cell_type": "code",
   "execution_count": 19,
   "id": "5f00c972-f677-4315-8ef8-a85c6e18be95",
   "metadata": {
    "vscode": {
     "languageId": "r"
    }
   },
   "outputs": [
    {
     "name": "stderr",
     "output_type": "stream",
     "text": [
      "Your code contains a unicode char which cannot be displayed in your\n",
      "current locale and R will silently convert it to an escaped form when the\n",
      "R kernel executes this code. This can lead to subtle errors if you use\n",
      "such chars to do comparisons. For more information, please see\n",
      "https://github.com/IRkernel/repr/wiki/Problems-with-unicode-on-windows"
     ]
    },
    {
     "data": {
      "text/plain": [
       "parsnip model object\n",
       "\n",
       "\n",
       "Call:\n",
       "stats::lm(formula = income ~ ., data = data)\n",
       "\n",
       "Coefficients:\n",
       "          (Intercept)                     hs       urbanization_low  \n",
       "               -95647                   1777                 -35394  \n",
       "urbanization_low_x_hs  \n",
       "                  324  \n"
      ]
     },
     "metadata": {},
     "output_type": "display_data"
    }
   ],
   "source": [
    "# non-parallel slopes model\n",
    "\n",
    "# ❗️ you can use most of the code above, just add step_interact(~ starts_with(\"urbanization\"):hs) to the recipe and\n",
    "#    switch the variable names...\n",
    "\n",
    "nps_rec = recipe(income ~ hs + urbanization, data = hate_crimes) |>\n",
    "    step_naomit(everything()) |>   # remove missing values\n",
    "    step_dummy(urbanization) |>    # dummy encode the urbanization variable\n",
    "    step_interact(~ starts_with(\"urbanization\"):hs) |>  # add the interaction term\n",
    "    prep()                         # run the recipe on the training data provided\n",
    "\n",
    "mod = linear_reg() |> set_engine('lm')\n",
    "\n",
    "nps_mod = mod |> fit(income ~ ., juice(nps_rec))\n",
    "\n",
    "nps_mod\n",
    "\n",
    "\n"
   ]
  },
  {
   "cell_type": "markdown",
   "id": "868f615c-c5b3-4246-8460-1cd85c06c43a",
   "metadata": {},
   "source": [
    "The following code creates a table of your model predictions over the training data. Calculate the [coefficient of determination](https://en.wikipedia.org/wiki/Coefficient_of_determination) (R<sup>2</sup>) for each model:\n",
    "\n",
    "```r\n",
    "rbind(\n",
    "    augment(ps_mod, juice(ps_rec)) |> select(income, .pred, .resid) |> mutate(model = \"parallel_slopes\"),\n",
    "    augment(nps_mod, juice(nps_rec)) |> select(income, .pred, .resid) |> mutate(model = \"interaction\")\n",
    ")\n",
    "```\n",
    "\n",
    "1. Group rows by the `model` variable (use the `group_by` function).\n",
    "1. Calculate the variance of income over the variance of your predictions for each model using the \"grouped\" data from the step above (use `summarize(r_squared = var(.pred) / var(income))`)."
   ]
  },
  {
   "cell_type": "code",
   "execution_count": 22,
   "id": "962ac82c-48a1-424e-90a7-f6fdc71d52fb",
   "metadata": {
    "vscode": {
     "languageId": "r"
    }
   },
   "outputs": [
    {
     "data": {
      "text/html": [
       "<table class=\"dataframe\">\n",
       "<caption>A tibble: 2 × 2</caption>\n",
       "<thead>\n",
       "\t<tr><th scope=col>model</th><th scope=col>r_squared</th></tr>\n",
       "\t<tr><th scope=col>&lt;chr&gt;</th><th scope=col>&lt;dbl&gt;</th></tr>\n",
       "</thead>\n",
       "<tbody>\n",
       "\t<tr><td>interaction    </td><td>0.5746731</td></tr>\n",
       "\t<tr><td>parallel_slopes</td><td>0.5716112</td></tr>\n",
       "</tbody>\n",
       "</table>\n"
      ],
      "text/latex": [
       "A tibble: 2 × 2\n",
       "\\begin{tabular}{ll}\n",
       " model & r\\_squared\\\\\n",
       " <chr> & <dbl>\\\\\n",
       "\\hline\n",
       "\t interaction     & 0.5746731\\\\\n",
       "\t parallel\\_slopes & 0.5716112\\\\\n",
       "\\end{tabular}\n"
      ],
      "text/markdown": [
       "\n",
       "A tibble: 2 × 2\n",
       "\n",
       "| model &lt;chr&gt; | r_squared &lt;dbl&gt; |\n",
       "|---|---|\n",
       "| interaction     | 0.5746731 |\n",
       "| parallel_slopes | 0.5716112 |\n",
       "\n"
      ],
      "text/plain": [
       "  model           r_squared\n",
       "1 interaction     0.5746731\n",
       "2 parallel_slopes 0.5716112"
      ]
     },
     "metadata": {},
     "output_type": "display_data"
    }
   ],
   "source": [
    "data <- rbind(\n",
    "    augment(ps_mod, juice(ps_rec)) |> select(income, .pred, .resid) |> mutate(model = \"parallel_slopes\"),\n",
    "    augment(nps_mod, juice(nps_rec)) |> select(income, .pred, .resid) |> mutate(model = \"interaction\")\n",
    ")\n",
    "\n",
    "data |> group_by(model) |> \n",
    "    summarize(r_squared = var(.pred) / var(income))\n"
   ]
  },
  {
   "cell_type": "markdown",
   "id": "840b7b72-84b9-4577-ac88-13a82f90f808",
   "metadata": {},
   "source": [
    "🎶 Note: you can also use the `glance` function with a model as input to find the coefficient of determination."
   ]
  },
  {
   "cell_type": "code",
   "execution_count": 23,
   "id": "68c3db16-e926-46d6-8647-4277560d2e25",
   "metadata": {
    "vscode": {
     "languageId": "r"
    }
   },
   "outputs": [
    {
     "data": {
      "text/html": [
       "<table class=\"dataframe\">\n",
       "<caption>A tibble: 1 × 12</caption>\n",
       "<thead>\n",
       "\t<tr><th scope=col>r.squared</th><th scope=col>adj.r.squared</th><th scope=col>sigma</th><th scope=col>statistic</th><th scope=col>p.value</th><th scope=col>df</th><th scope=col>logLik</th><th scope=col>AIC</th><th scope=col>BIC</th><th scope=col>deviance</th><th scope=col>df.residual</th><th scope=col>nobs</th></tr>\n",
       "\t<tr><th scope=col>&lt;dbl&gt;</th><th scope=col>&lt;dbl&gt;</th><th scope=col>&lt;dbl&gt;</th><th scope=col>&lt;dbl&gt;</th><th scope=col>&lt;dbl&gt;</th><th scope=col>&lt;dbl&gt;</th><th scope=col>&lt;dbl&gt;</th><th scope=col>&lt;dbl&gt;</th><th scope=col>&lt;dbl&gt;</th><th scope=col>&lt;dbl&gt;</th><th scope=col>&lt;int&gt;</th><th scope=col>&lt;int&gt;</th></tr>\n",
       "</thead>\n",
       "<tbody>\n",
       "\t<tr><td>0.5716112</td><td>0.5525717</td><td>6325.667</td><td>30.02238</td><td>5.204241e-09</td><td>2</td><td>-486.6739</td><td>981.3479</td><td>988.8327</td><td>1800633086</td><td>45</td><td>48</td></tr>\n",
       "</tbody>\n",
       "</table>\n"
      ],
      "text/latex": [
       "A tibble: 1 × 12\n",
       "\\begin{tabular}{llllllllllll}\n",
       " r.squared & adj.r.squared & sigma & statistic & p.value & df & logLik & AIC & BIC & deviance & df.residual & nobs\\\\\n",
       " <dbl> & <dbl> & <dbl> & <dbl> & <dbl> & <dbl> & <dbl> & <dbl> & <dbl> & <dbl> & <int> & <int>\\\\\n",
       "\\hline\n",
       "\t 0.5716112 & 0.5525717 & 6325.667 & 30.02238 & 5.204241e-09 & 2 & -486.6739 & 981.3479 & 988.8327 & 1800633086 & 45 & 48\\\\\n",
       "\\end{tabular}\n"
      ],
      "text/markdown": [
       "\n",
       "A tibble: 1 × 12\n",
       "\n",
       "| r.squared &lt;dbl&gt; | adj.r.squared &lt;dbl&gt; | sigma &lt;dbl&gt; | statistic &lt;dbl&gt; | p.value &lt;dbl&gt; | df &lt;dbl&gt; | logLik &lt;dbl&gt; | AIC &lt;dbl&gt; | BIC &lt;dbl&gt; | deviance &lt;dbl&gt; | df.residual &lt;int&gt; | nobs &lt;int&gt; |\n",
       "|---|---|---|---|---|---|---|---|---|---|---|---|\n",
       "| 0.5716112 | 0.5525717 | 6325.667 | 30.02238 | 5.204241e-09 | 2 | -486.6739 | 981.3479 | 988.8327 | 1800633086 | 45 | 48 |\n",
       "\n"
      ],
      "text/plain": [
       "  r.squared adj.r.squared sigma    statistic p.value      df logLik    AIC     \n",
       "1 0.5716112 0.5525717     6325.667 30.02238  5.204241e-09 2  -486.6739 981.3479\n",
       "  BIC      deviance   df.residual nobs\n",
       "1 988.8327 1800633086 45          48  "
      ]
     },
     "metadata": {},
     "output_type": "display_data"
    },
    {
     "data": {
      "text/html": [
       "<table class=\"dataframe\">\n",
       "<caption>A tibble: 1 × 12</caption>\n",
       "<thead>\n",
       "\t<tr><th scope=col>r.squared</th><th scope=col>adj.r.squared</th><th scope=col>sigma</th><th scope=col>statistic</th><th scope=col>p.value</th><th scope=col>df</th><th scope=col>logLik</th><th scope=col>AIC</th><th scope=col>BIC</th><th scope=col>deviance</th><th scope=col>df.residual</th><th scope=col>nobs</th></tr>\n",
       "\t<tr><th scope=col>&lt;dbl&gt;</th><th scope=col>&lt;dbl&gt;</th><th scope=col>&lt;dbl&gt;</th><th scope=col>&lt;dbl&gt;</th><th scope=col>&lt;dbl&gt;</th><th scope=col>&lt;dbl&gt;</th><th scope=col>&lt;dbl&gt;</th><th scope=col>&lt;dbl&gt;</th><th scope=col>&lt;dbl&gt;</th><th scope=col>&lt;dbl&gt;</th><th scope=col>&lt;int&gt;</th><th scope=col>&lt;int&gt;</th></tr>\n",
       "</thead>\n",
       "<tbody>\n",
       "\t<tr><td>0.5746731</td><td>0.5456735</td><td>6374.244</td><td>19.81661</td><td>2.814509e-08</td><td>3</td><td>-486.5018</td><td>983.0035</td><td>992.3595</td><td>1787763166</td><td>44</td><td>48</td></tr>\n",
       "</tbody>\n",
       "</table>\n"
      ],
      "text/latex": [
       "A tibble: 1 × 12\n",
       "\\begin{tabular}{llllllllllll}\n",
       " r.squared & adj.r.squared & sigma & statistic & p.value & df & logLik & AIC & BIC & deviance & df.residual & nobs\\\\\n",
       " <dbl> & <dbl> & <dbl> & <dbl> & <dbl> & <dbl> & <dbl> & <dbl> & <dbl> & <dbl> & <int> & <int>\\\\\n",
       "\\hline\n",
       "\t 0.5746731 & 0.5456735 & 6374.244 & 19.81661 & 2.814509e-08 & 3 & -486.5018 & 983.0035 & 992.3595 & 1787763166 & 44 & 48\\\\\n",
       "\\end{tabular}\n"
      ],
      "text/markdown": [
       "\n",
       "A tibble: 1 × 12\n",
       "\n",
       "| r.squared &lt;dbl&gt; | adj.r.squared &lt;dbl&gt; | sigma &lt;dbl&gt; | statistic &lt;dbl&gt; | p.value &lt;dbl&gt; | df &lt;dbl&gt; | logLik &lt;dbl&gt; | AIC &lt;dbl&gt; | BIC &lt;dbl&gt; | deviance &lt;dbl&gt; | df.residual &lt;int&gt; | nobs &lt;int&gt; |\n",
       "|---|---|---|---|---|---|---|---|---|---|---|---|\n",
       "| 0.5746731 | 0.5456735 | 6374.244 | 19.81661 | 2.814509e-08 | 3 | -486.5018 | 983.0035 | 992.3595 | 1787763166 | 44 | 48 |\n",
       "\n"
      ],
      "text/plain": [
       "  r.squared adj.r.squared sigma    statistic p.value      df logLik    AIC     \n",
       "1 0.5746731 0.5456735     6374.244 19.81661  2.814509e-08 3  -486.5018 983.0035\n",
       "  BIC      deviance   df.residual nobs\n",
       "1 992.3595 1787763166 44          48  "
      ]
     },
     "metadata": {},
     "output_type": "display_data"
    }
   ],
   "source": [
    "glance(ps_mod)\n",
    "glance(nps_mod)"
   ]
  },
  {
   "cell_type": "markdown",
   "id": "ba34c756-4110-41a5-889c-102a51920a41",
   "metadata": {},
   "source": [
    "❓Compare the adjusted proportion of variance accounted for in each model. Based on this comparison, which model do you prefer? Why? \n",
    "\n",
    "**Answer:**"
   ]
  },
  {
   "cell_type": "markdown",
   "id": "1eec4703",
   "metadata": {},
   "source": [
    "When looking at the standard R^2 value it appears that the model with interaction has a better fit. However, when looking at the adjusted values it aligns better with the confidence intervals in the previous visual determination. Accounting for the degrees of freedom inherently removed some of the natural overfitting of a low observation data set. It appears that the parallel slopes model still genuinely outperforms the interaction model. Again, I think that with more observations you would likely see a flip. I would introduce some data enrichment to create a slightly larger data set to train the models on to determine the better model for generalized application."
   ]
  },
  {
   "cell_type": "markdown",
   "id": "3b8b4c84-898f-4914-b06b-2eeb99f0d234",
   "metadata": {},
   "source": [
    "❓Using your preferred model, based on your regression model parameters (and the data visualizations), is `income` greater in states that have lower or higher levels of `urbanization`? By how much?\n",
    "\n",
    "**Hint:** use the `tidy` function with your model as input to access the parameters in a nice table.\n",
    "\n",
    "**Answer:**"
   ]
  },
  {
   "cell_type": "markdown",
   "id": "5a2ff718",
   "metadata": {},
   "source": [
    "Income is greater in states that have higher urbanization. States with lower urbanization, on average, income is $7333.32 lower than states with high urbanization. The P value also indicates that these values are statistically significant."
   ]
  },
  {
   "cell_type": "code",
   "execution_count": 27,
   "id": "c094d0a2-2030-45a8-9643-9c6eac642fb3",
   "metadata": {
    "vscode": {
     "languageId": "r"
    }
   },
   "outputs": [
    {
     "data": {
      "text/html": [
       "<table class=\"dataframe\">\n",
       "<caption>A tibble: 3 × 5</caption>\n",
       "<thead>\n",
       "\t<tr><th scope=col>term</th><th scope=col>estimate</th><th scope=col>std.error</th><th scope=col>statistic</th><th scope=col>p.value</th></tr>\n",
       "\t<tr><th scope=col>&lt;chr&gt;</th><th scope=col>&lt;dbl&gt;</th><th scope=col>&lt;dbl&gt;</th><th scope=col>&lt;dbl&gt;</th><th scope=col>&lt;dbl&gt;</th></tr>\n",
       "</thead>\n",
       "<tbody>\n",
       "\t<tr><td>(Intercept)     </td><td>-113725.193</td><td>23552.9187</td><td>-4.828497</td><td>1.624694e-05</td></tr>\n",
       "\t<tr><td>hs              </td><td>   1986.794</td><td>  272.9303</td><td> 7.279490</td><td>3.930730e-09</td></tr>\n",
       "\t<tr><td>urbanization_low</td><td>  -7333.326</td><td> 1857.6592</td><td>-3.947616</td><td>2.744526e-04</td></tr>\n",
       "</tbody>\n",
       "</table>\n"
      ],
      "text/latex": [
       "A tibble: 3 × 5\n",
       "\\begin{tabular}{lllll}\n",
       " term & estimate & std.error & statistic & p.value\\\\\n",
       " <chr> & <dbl> & <dbl> & <dbl> & <dbl>\\\\\n",
       "\\hline\n",
       "\t (Intercept)      & -113725.193 & 23552.9187 & -4.828497 & 1.624694e-05\\\\\n",
       "\t hs               &    1986.794 &   272.9303 &  7.279490 & 3.930730e-09\\\\\n",
       "\t urbanization\\_low &   -7333.326 &  1857.6592 & -3.947616 & 2.744526e-04\\\\\n",
       "\\end{tabular}\n"
      ],
      "text/markdown": [
       "\n",
       "A tibble: 3 × 5\n",
       "\n",
       "| term &lt;chr&gt; | estimate &lt;dbl&gt; | std.error &lt;dbl&gt; | statistic &lt;dbl&gt; | p.value &lt;dbl&gt; |\n",
       "|---|---|---|---|---|\n",
       "| (Intercept)      | -113725.193 | 23552.9187 | -4.828497 | 1.624694e-05 |\n",
       "| hs               |    1986.794 |   272.9303 |  7.279490 | 3.930730e-09 |\n",
       "| urbanization_low |   -7333.326 |  1857.6592 | -3.947616 | 2.744526e-04 |\n",
       "\n"
      ],
      "text/plain": [
       "  term             estimate    std.error  statistic p.value     \n",
       "1 (Intercept)      -113725.193 23552.9187 -4.828497 1.624694e-05\n",
       "2 hs                  1986.794   272.9303  7.279490 3.930730e-09\n",
       "3 urbanization_low   -7333.326  1857.6592 -3.947616 2.744526e-04"
      ]
     },
     "metadata": {},
     "output_type": "display_data"
    }
   ],
   "source": [
    "tidy(ps_mod)"
   ]
  },
  {
   "cell_type": "markdown",
   "id": "bf4c7cba-28b1-41e4-800b-275d0895ceff",
   "metadata": {},
   "source": [
    "❓For every one percentage point increase of high-school educated adults in a state (`hs` variable), what is the associated average increase in `income`?\n",
    "\n",
    "**Answer:**"
   ]
  },
  {
   "cell_type": "markdown",
   "id": "f0fbac88",
   "metadata": {},
   "source": [
    "The average increase is determined by the hs estimate column in the tidy output showing an average increase of $1986.79 per one percentage point increase which indicates an increase in high school educated adults generally results in areas of higher income."
   ]
  }
 ],
 "metadata": {
  "kernelspec": {
   "display_name": "R",
   "language": "R",
   "name": "ir"
  },
  "language_info": {
   "codemirror_mode": "r",
   "file_extension": ".r",
   "mimetype": "text/x-r-source",
   "name": "R",
   "pygments_lexer": "r",
   "version": "4.1.3"
  }
 },
 "nbformat": 4,
 "nbformat_minor": 5
}
